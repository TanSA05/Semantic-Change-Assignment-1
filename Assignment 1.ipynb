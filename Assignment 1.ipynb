{
 "cells": [
  {
   "cell_type": "code",
   "execution_count": 1,
   "id": "c47d61ef",
   "metadata": {},
   "outputs": [
    {
     "name": "stdout",
     "output_type": "stream",
     "text": [
      "Collecting gensim\n",
      "  Downloading gensim-4.2.0-cp39-cp39-macosx_10_9_x86_64.whl (24.0 MB)\n",
      "\u001b[K     |████████████████████████████████| 24.0 MB 973 kB/s eta 0:00:01\n",
      "\u001b[?25hRequirement already satisfied: numpy>=1.17.0 in /Users/tansa05/jupyter/lib/python3.9/site-packages (from gensim) (1.21.2)\n",
      "Requirement already satisfied: scipy>=0.18.1 in /Users/tansa05/jupyter/lib/python3.9/site-packages (from gensim) (1.7.1)\n",
      "Collecting smart-open>=1.8.1\n",
      "  Downloading smart_open-6.2.0-py3-none-any.whl (58 kB)\n",
      "\u001b[K     |████████████████████████████████| 58 kB 10.6 MB/s eta 0:00:01\n",
      "\u001b[?25hInstalling collected packages: smart-open, gensim\n",
      "Successfully installed gensim-4.2.0 smart-open-6.2.0\n",
      "\u001b[33mWARNING: You are using pip version 21.2.4; however, version 22.2.2 is available.\n",
      "You should consider upgrading via the '/Users/tansa05/jupyter/bin/python -m pip install --upgrade pip' command.\u001b[0m\n"
     ]
    }
   ],
   "source": [
    "!pip install gensim"
   ]
  },
  {
   "cell_type": "code",
   "execution_count": 69,
   "id": "7d515ef8",
   "metadata": {
    "scrolled": true
   },
   "outputs": [
    {
     "name": "stdout",
     "output_type": "stream",
     "text": [
      "Collecting nltk\n",
      "  Downloading nltk-3.7-py3-none-any.whl (1.5 MB)\n",
      "\u001b[K     |████████████████████████████████| 1.5 MB 7.9 MB/s eta 0:00:01\n",
      "\u001b[?25hCollecting regex>=2021.8.3\n",
      "  Downloading regex-2022.9.13-cp39-cp39-macosx_10_9_x86_64.whl (293 kB)\n",
      "\u001b[K     |████████████████████████████████| 293 kB 17.1 MB/s eta 0:00:01\n",
      "\u001b[?25hCollecting tqdm\n",
      "  Downloading tqdm-4.64.1-py2.py3-none-any.whl (78 kB)\n",
      "\u001b[K     |████████████████████████████████| 78 kB 7.3 MB/s eta 0:00:011\n",
      "\u001b[?25hCollecting click\n",
      "  Downloading click-8.1.3-py3-none-any.whl (96 kB)\n",
      "\u001b[K     |████████████████████████████████| 96 kB 18.6 MB/s eta 0:00:01\n",
      "\u001b[?25hRequirement already satisfied: joblib in /Users/tansa05/jupyter/lib/python3.9/site-packages (from nltk) (1.0.1)\n",
      "Installing collected packages: tqdm, regex, click, nltk\n",
      "Successfully installed click-8.1.3 nltk-3.7 regex-2022.9.13 tqdm-4.64.1\n",
      "\u001b[33mWARNING: You are using pip version 21.2.4; however, version 22.2.2 is available.\n",
      "You should consider upgrading via the '/Users/tansa05/jupyter/bin/python -m pip install --upgrade pip' command.\u001b[0m\n"
     ]
    }
   ],
   "source": [
    "!pip install nltk"
   ]
  },
  {
   "cell_type": "code",
   "execution_count": 332,
   "id": "08fef9c1",
   "metadata": {},
   "outputs": [
    {
     "data": {
      "text/plain": [
       "array([ 5.12695312e-02, -2.23388672e-02, -1.72851562e-01,  1.61132812e-01,\n",
       "       -8.44726562e-02,  5.73730469e-02,  5.85937500e-02, -8.25195312e-02,\n",
       "       -1.53808594e-02, -6.34765625e-02,  1.79687500e-01, -4.23828125e-01,\n",
       "       -2.25830078e-02, -1.66015625e-01, -2.51464844e-02,  1.07421875e-01,\n",
       "       -1.99218750e-01,  1.59179688e-01, -1.87500000e-01, -1.20117188e-01,\n",
       "        1.55273438e-01, -9.91210938e-02,  1.42578125e-01, -1.64062500e-01,\n",
       "       -8.93554688e-02,  2.00195312e-01, -1.49414062e-01,  3.20312500e-01,\n",
       "        3.28125000e-01,  2.44140625e-02, -9.71679688e-02, -8.20312500e-02,\n",
       "       -3.63769531e-02, -8.59375000e-02, -9.86328125e-02,  7.78198242e-03,\n",
       "       -1.34277344e-02,  5.27343750e-02,  1.48437500e-01,  3.33984375e-01,\n",
       "        1.66015625e-02, -2.12890625e-01, -1.50756836e-02,  5.24902344e-02,\n",
       "       -1.07421875e-01, -8.88671875e-02,  2.49023438e-01, -7.03125000e-02,\n",
       "       -1.59912109e-02,  7.56835938e-02, -7.03125000e-02,  1.19140625e-01,\n",
       "        2.29492188e-01,  1.41601562e-02,  1.15234375e-01,  7.50732422e-03,\n",
       "        2.75390625e-01, -2.44140625e-01,  2.96875000e-01,  3.49121094e-02,\n",
       "        2.42187500e-01,  1.35742188e-01,  1.42578125e-01,  1.75781250e-02,\n",
       "        2.92968750e-02, -1.21582031e-01,  2.28271484e-02, -4.76074219e-02,\n",
       "       -1.55273438e-01,  3.14331055e-03,  3.45703125e-01,  1.22558594e-01,\n",
       "       -1.95312500e-01,  8.10546875e-02, -6.83593750e-02, -1.47094727e-02,\n",
       "        2.14843750e-01, -1.21093750e-01,  1.57226562e-01, -2.07031250e-01,\n",
       "        1.36718750e-01, -1.29882812e-01,  5.29785156e-02, -2.71484375e-01,\n",
       "       -2.98828125e-01, -1.84570312e-01, -2.29492188e-01,  1.19140625e-01,\n",
       "        1.53198242e-02, -2.61718750e-01, -1.23046875e-01, -1.86767578e-02,\n",
       "       -6.49414062e-02, -8.15429688e-02,  7.86132812e-02, -3.53515625e-01,\n",
       "        5.24902344e-02, -2.45361328e-02, -5.43212891e-03, -2.08984375e-01,\n",
       "       -2.10937500e-01, -1.79687500e-01,  2.42187500e-01,  2.57812500e-01,\n",
       "        1.37695312e-01, -2.10937500e-01, -2.17285156e-02, -1.38671875e-01,\n",
       "        1.84326172e-02, -1.23901367e-02, -1.59179688e-01,  1.61132812e-01,\n",
       "        2.08007812e-01,  1.03027344e-01,  9.81445312e-02, -6.83593750e-02,\n",
       "       -8.72802734e-03, -2.89062500e-01, -2.14843750e-01, -1.14257812e-01,\n",
       "       -2.21679688e-01,  4.12597656e-02, -3.12500000e-01, -5.59082031e-02,\n",
       "       -9.76562500e-02,  5.81054688e-02, -4.05273438e-02, -1.73828125e-01,\n",
       "        1.64062500e-01, -2.53906250e-01, -1.54296875e-01, -2.31933594e-02,\n",
       "       -2.38281250e-01,  2.07519531e-02, -2.73437500e-01,  3.90625000e-03,\n",
       "        1.13769531e-01, -1.73828125e-01,  2.57812500e-01,  2.35351562e-01,\n",
       "        5.22460938e-02,  6.83593750e-02, -1.75781250e-01,  1.60156250e-01,\n",
       "       -5.98907471e-04,  5.98144531e-02, -2.11914062e-01, -5.54199219e-02,\n",
       "       -7.51953125e-02, -3.06640625e-01,  4.27734375e-01,  5.32226562e-02,\n",
       "       -2.08984375e-01, -5.71289062e-02, -2.09960938e-01,  3.29589844e-02,\n",
       "        1.05468750e-01, -1.50390625e-01, -9.37500000e-02,  1.16699219e-01,\n",
       "        6.44531250e-02,  2.80761719e-02,  2.41210938e-01, -1.25976562e-01,\n",
       "       -1.00585938e-01, -1.22680664e-02, -3.26156616e-04,  1.58691406e-02,\n",
       "        1.27929688e-01, -3.32031250e-02,  4.07714844e-02, -1.31835938e-01,\n",
       "        9.81445312e-02,  1.74804688e-01, -2.36328125e-01,  5.17578125e-02,\n",
       "        1.83593750e-01,  2.42919922e-02, -4.31640625e-01,  2.46093750e-01,\n",
       "       -3.03955078e-02, -2.47802734e-02, -1.17187500e-01,  1.61132812e-01,\n",
       "       -5.71289062e-02,  1.16577148e-02,  2.81250000e-01,  4.27734375e-01,\n",
       "        4.56542969e-02,  1.01074219e-01, -3.95507812e-02,  1.77001953e-02,\n",
       "       -8.98437500e-02,  1.35742188e-01,  2.08007812e-01,  1.88476562e-01,\n",
       "       -1.52343750e-01, -2.37304688e-01, -1.90429688e-01,  7.12890625e-02,\n",
       "       -2.46093750e-01, -2.61718750e-01, -2.34375000e-01, -1.45507812e-01,\n",
       "       -1.17187500e-02, -1.50390625e-01, -1.13281250e-01,  1.82617188e-01,\n",
       "        2.63671875e-01, -1.37695312e-01, -4.58984375e-01, -4.68750000e-02,\n",
       "       -1.26953125e-01, -4.22363281e-02, -1.66992188e-01,  1.26953125e-01,\n",
       "        2.59765625e-01, -2.44140625e-01, -2.19726562e-01, -8.69140625e-02,\n",
       "        1.59179688e-01, -3.78417969e-02,  8.97216797e-03, -2.77343750e-01,\n",
       "       -1.04980469e-01, -1.75781250e-01,  2.28515625e-01, -2.70996094e-02,\n",
       "        2.85156250e-01, -2.73437500e-01,  1.61132812e-02,  5.90820312e-02,\n",
       "       -2.39257812e-01,  1.77734375e-01, -1.34765625e-01,  1.38671875e-01,\n",
       "        3.53515625e-01,  1.22070312e-01,  1.43554688e-01,  9.22851562e-02,\n",
       "        2.29492188e-01, -3.00781250e-01, -4.88281250e-02, -1.79687500e-01,\n",
       "        2.96875000e-01,  1.75781250e-01,  4.80957031e-02, -3.38745117e-03,\n",
       "        7.91015625e-02, -2.38281250e-01, -2.31445312e-01,  1.66015625e-01,\n",
       "       -2.13867188e-01, -7.03125000e-02, -7.56835938e-02,  1.96289062e-01,\n",
       "       -1.29882812e-01, -1.05957031e-01, -3.53515625e-01, -1.16699219e-01,\n",
       "       -5.10253906e-02,  3.39355469e-02, -1.43554688e-01, -3.90625000e-03,\n",
       "        1.73828125e-01, -9.96093750e-02, -1.66015625e-01, -8.54492188e-02,\n",
       "       -3.82812500e-01,  5.90820312e-02, -6.22558594e-02,  8.83789062e-02,\n",
       "       -8.88671875e-02,  3.28125000e-01,  6.83593750e-02, -1.91406250e-01,\n",
       "       -8.35418701e-04,  1.04003906e-01,  1.52343750e-01, -1.53350830e-03,\n",
       "        4.16015625e-01, -3.32031250e-02,  1.49414062e-01,  2.42187500e-01,\n",
       "       -1.76757812e-01, -4.93164062e-02, -1.24511719e-01,  1.25976562e-01,\n",
       "        1.74804688e-01,  2.81250000e-01, -1.80664062e-01,  1.03027344e-01,\n",
       "       -2.75390625e-01,  2.61718750e-01,  2.46093750e-01, -4.71191406e-02,\n",
       "        6.25000000e-02,  4.16015625e-01, -3.55468750e-01,  2.22656250e-01],\n",
       "      dtype=float32)"
      ]
     },
     "execution_count": 332,
     "metadata": {},
     "output_type": "execute_result"
    }
   ],
   "source": [
    "# Step 1\n",
    "\n",
    "from gensim.models import KeyedVectors\n",
    "\n",
    "model = KeyedVectors.load_word2vec_format('GoogleNews-vectors-negative300.bin.gz', binary=True)\n",
    "model['dog']"
   ]
  },
  {
   "cell_type": "code",
   "execution_count": 273,
   "id": "e34d7060",
   "metadata": {},
   "outputs": [],
   "source": [
    "# Step 3 - Read human pairs and similarities\n",
    "\n",
    "word_pairs_similarity = {}\n",
    "with open('table1_pairs.txt', 'r') as ft:\n",
    "    lines = ft.readlines()\n",
    "    for line in lines:\n",
    "        w1, w2, score = line.split()\n",
    "        word_pairs_similarity[(w1.lower(), w2.lower())] = float(score)\n"
   ]
  },
  {
   "cell_type": "code",
   "execution_count": 280,
   "id": "2c7b6055",
   "metadata": {},
   "outputs": [
    {
     "name": "stdout",
     "output_type": "stream",
     "text": [
      "(0.7533889716758513, 4.457925401443882e-13) 0.0\n"
     ]
    }
   ],
   "source": [
    "# Step 3 - Pearson Correlation with word2vec\n",
    "\n",
    "pearson_correlation, _, x = model.evaluate_word_pairs('table1_pairs.txt', delimiter=' ')\n",
    "print(pearson_correlation, x)"
   ]
  },
  {
   "cell_type": "code",
   "execution_count": 297,
   "id": "d93ff315",
   "metadata": {},
   "outputs": [
    {
     "name": "stdout",
     "output_type": "stream",
     "text": [
      "(0.33119615336345803, 0.007041097897088098) 0.0\n"
     ]
    }
   ],
   "source": [
    "# Step 3 - Pearson Correlation with LSA\n",
    "\n",
    "pearson_correlation_lsa, _, x = lsa_model.evaluate_word_pairs('table1_pairs.txt', delimiter=' ')\n",
    "print(pearson_correlation_lsa, x)"
   ]
  },
  {
   "cell_type": "code",
   "execution_count": 333,
   "id": "1d89d369",
   "metadata": {},
   "outputs": [],
   "source": [
    "# Step 4 - Word2Vec Accuracy\n",
    "\n",
    "analogy_scores = model.evaluate_word_analogies('words_test_small.txt')\n",
    "# analogy_scores"
   ]
  },
  {
   "cell_type": "code",
   "execution_count": 268,
   "id": "1d65b6ef",
   "metadata": {
    "scrolled": true
   },
   "outputs": [
    {
     "name": "stdout",
     "output_type": "stream",
     "text": [
      "{'capital-common-countries': 0.8, 'capital-world': 1.0, 'currency': inf, 'city-in-state': 0.8305084745762712, 'family': 0.9222222222222223, 'gram1-adjective-to-adverb': 0.28157894736842104, 'gram2-opposite': 0.2, 'gram3-comparative': 0.8088235294117647, 'gram4-superlative': 0.9285714285714286, 'gram5-present-participle': 0.7867647058823529, 'gram6-nationality-adjective': 0.8850574712643678, 'gram7-past-tense': 0.7216666666666667, 'gram8-plural': 0.8137254901960784, 'gram9-plural-verbs': 0.7954545454545454, 'Total accuracy': 0.7007874015748031}\n"
     ]
    }
   ],
   "source": [
    "# Step 4 - word2vec accuracy scores\n",
    "\n",
    "accuracy_scores = {}\n",
    "\n",
    "for sections in analogy_scores[1]:\n",
    "    correct = len(sections['correct'])\n",
    "    wrong = len(sections['incorrect'])\n",
    "    try:\n",
    "        accuracy_scores[sections['section']] = correct/(correct + wrong)\n",
    "    except ZeroDivisionError:\n",
    "        accuracy_scores[sections['section']] = np.inf\n",
    "    \n",
    "print(accuracy_scores)\n"
   ]
  },
  {
   "cell_type": "code",
   "execution_count": 3,
   "id": "e4e3d4c5",
   "metadata": {},
   "outputs": [
    {
     "data": {
      "text/plain": [
       "425431"
      ]
     },
     "execution_count": 3,
     "metadata": {},
     "output_type": "execute_result"
    }
   ],
   "source": [
    "# Step 4 - LSA word vectors\n",
    "# import pickle\n",
    "# from collections import Counter\n",
    "# from sklearn.feature_extraction.text import TfidfVectorizer\n",
    "\n",
    "# word_list = []\n",
    "# words_freq = []\n",
    "# with open('lsa_text.txt', 'r') as fp:\n",
    "#     word_list = [line.rstrip() for line in fp]\n",
    "\n",
    "# with open('words_freq.pickle', 'rb') as fb:\n",
    "#     words_freq = pickle.load(fb)\n",
    "    \n",
    "# with open('bigram_freq.pickle', 'rb') as f:\n",
    "#     bigrams_freq = pickle.load(f)\n",
    "    \n",
    "# with open('correlation_matrix.pickle', 'rb') as fc:\n",
    "#     correlation_matrix = pickle.load(fc)\n",
    "    \n",
    "# len(bigrams_freq)\n",
    "# vectorizer = TfidfVectorizer(smooth_idf=True)\n",
    "# X = vectorizer.fit_transform(word_list)"
   ]
  },
  {
   "cell_type": "code",
   "execution_count": 337,
   "id": "690f44cb",
   "metadata": {},
   "outputs": [
    {
     "name": "stderr",
     "output_type": "stream",
     "text": [
      "[nltk_data] Error loading brown: <urlopen error [SSL:\n",
      "[nltk_data]     CERTIFICATE_VERIFY_FAILED] certificate verify failed:\n",
      "[nltk_data]     unable to get local issuer certificate (_ssl.c:1129)>\n"
     ]
    },
    {
     "data": {
      "text/plain": [
       "False"
      ]
     },
     "execution_count": 337,
     "metadata": {},
     "output_type": "execute_result"
    }
   ],
   "source": [
    "# Basic Exercise Step 1\n",
    "\n",
    "import nltk\n",
    "from nltk.corpus import brown\n",
    "nltk.download('brown')"
   ]
  },
  {
   "cell_type": "code",
   "execution_count": 338,
   "id": "f0902dc9",
   "metadata": {},
   "outputs": [
    {
     "data": {
      "text/plain": [
       "FreqDist({'the': 69971, 'of': 36412, 'and': 28853, 'to': 26158, 'a': 23195, 'in': 21337, 'that': 10594, 'is': 10109, 'was': 9815, 'he': 9548, ...})"
      ]
     },
     "execution_count": 338,
     "metadata": {},
     "output_type": "execute_result"
    }
   ],
   "source": [
    "# Basic Exercise Step 2\n",
    "\n",
    "all_text = brown.words()\n",
    "all_text = [w.lower() for w in all_text if w.isalpha()]\n",
    "fdist = nltk.FreqDist(w.lower() for w in all_text)#.most_common(5000)\n",
    "fdist"
   ]
  },
  {
   "cell_type": "code",
   "execution_count": 339,
   "id": "938c5321",
   "metadata": {},
   "outputs": [
    {
     "name": "stdout",
     "output_type": "stream",
     "text": [
      "Most frequent:  [('the', 69971), ('of', 36412), ('and', 28853), ('to', 26158), ('a', 23195)]\n",
      "Least frequent:  [('vertex', 19), ('rourke', 19), ('killpath', 19), ('haney', 19), ('letch', 19)]\n"
     ]
    }
   ],
   "source": [
    "# Basic Exercise Step 2\n",
    "\n",
    "fiveK_words = fdist.most_common(5000)\n",
    "print(\"Most frequent: \", fiveK_words[:5])\n",
    "print(\"Least frequent: \", fiveK_words[-5:])"
   ]
  },
  {
   "cell_type": "code",
   "execution_count": 340,
   "id": "34da033e",
   "metadata": {},
   "outputs": [],
   "source": [
    "# Construct word list\n",
    "\n",
    "import numpy as np\n",
    "import pandas as pd\n",
    "\n",
    "fiveK_w = []\n",
    "for entry in fiveK_words:\n",
    "    fiveK_w.append(entry[0])\n",
    "    \n",
    "table_words = ['cord', 'smile', 'hill', 'woodland', 'rooster', 'voyage', 'car', 'journey', 'noon',\n",
    "         'string', 'cemetery', 'mound', 'fruit', 'furnace', 'glass', 'jewel', 'autograph', 'shore',\n",
    "         'magician', 'oracle', 'automobile', 'wizard', 'crane', 'implement', 'mound', 'stove',\n",
    "         'brother', 'lad', 'grin', 'implement', 'sage', 'wizard', 'asylum', 'fruit', 'oracle',\n",
    "         'bird', 'sage', 'asylum', 'monk', 'graveyard', 'crane', 'madhouse', 'bird', 'cock', 'glass',\n",
    "         'magician', 'rooster', 'brother', 'monk', 'food', 'fruit', 'cushion', 'jewel', 'asylum',\n",
    "         'madhouse', 'monk', 'slave', 'cemetery', 'magician', 'wizard', 'furnace', 'stove', 'asylum',\n",
    "         'coast', 'forest', 'hill', 'mound', 'grin', 'lad', 'cord', 'string', 'shore', 'woodland',\n",
    "         'glass', 'tumbler', 'monk', 'oracle', 'grin', 'smile', 'boy', 'sage', 'serf', 'slave',\n",
    "         'automobile', 'cushion', 'journey', 'voyage', 'mound', 'shore', 'autograph', 'signature',\n",
    "         'lad', 'wizard', 'coast', 'shore', 'forest', 'graveyard', 'forest', 'woodland', 'food',\n",
    "         'rooster', 'implement', 'tool', 'cemetery', 'woodland', 'cock', 'rooster', 'shore', 'voyage',\n",
    "         'boy', 'Ind', 'bird', 'woodland', 'cushion', 'coast', 'hill', 'cemetery', 'furnace',\n",
    "         'implement', 'automobile', 'crane', 'rooster', 'midday', 'nооn', 'gem', 'jewel', 'boy',\n",
    "         'pillow', 'graveyard', 'car']\n",
    "\n",
    "for word in table_words:\n",
    "    if word not in fiveK_w:\n",
    "        fiveK_w.append(word)"
   ]
  },
  {
   "cell_type": "code",
   "execution_count": 284,
   "id": "029a7047",
   "metadata": {},
   "outputs": [
    {
     "name": "stdout",
     "output_type": "stream",
     "text": [
      "425431\n"
     ]
    }
   ],
   "source": [
    "# Basic Exercise Step 3 -> Construct Bigram frequencies\n",
    "\n",
    "from collections import Counter\n",
    "from nltk.util import ngrams\n",
    "\n",
    "bigrams = ngrams(all_text, 2)\n",
    "bigrams_freq = Counter(bigrams)\n",
    "print(len(bigrams_freq))\n",
    "bigrams_mc = bigrams_freq.most_common()"
   ]
  },
  {
   "cell_type": "code",
   "execution_count": 285,
   "id": "a782e7e4",
   "metadata": {},
   "outputs": [
    {
     "data": {
      "text/html": [
       "<div>\n",
       "<style scoped>\n",
       "    .dataframe tbody tr th:only-of-type {\n",
       "        vertical-align: middle;\n",
       "    }\n",
       "\n",
       "    .dataframe tbody tr th {\n",
       "        vertical-align: top;\n",
       "    }\n",
       "\n",
       "    .dataframe thead th {\n",
       "        text-align: right;\n",
       "    }\n",
       "</style>\n",
       "<table border=\"1\" class=\"dataframe\">\n",
       "  <thead>\n",
       "    <tr style=\"text-align: right;\">\n",
       "      <th></th>\n",
       "      <th>the</th>\n",
       "      <th>of</th>\n",
       "      <th>and</th>\n",
       "      <th>to</th>\n",
       "      <th>a</th>\n",
       "      <th>in</th>\n",
       "      <th>that</th>\n",
       "      <th>is</th>\n",
       "      <th>was</th>\n",
       "      <th>he</th>\n",
       "      <th>...</th>\n",
       "      <th>cock</th>\n",
       "      <th>cushion</th>\n",
       "      <th>tumbler</th>\n",
       "      <th>serf</th>\n",
       "      <th>signature</th>\n",
       "      <th>Ind</th>\n",
       "      <th>midday</th>\n",
       "      <th>nооn</th>\n",
       "      <th>gem</th>\n",
       "      <th>pillow</th>\n",
       "    </tr>\n",
       "  </thead>\n",
       "  <tbody>\n",
       "    <tr>\n",
       "      <th>the</th>\n",
       "      <td>36.0</td>\n",
       "      <td>9774.0</td>\n",
       "      <td>2307.0</td>\n",
       "      <td>3525.0</td>\n",
       "      <td>18.0</td>\n",
       "      <td>6156.0</td>\n",
       "      <td>1407.0</td>\n",
       "      <td>810.0</td>\n",
       "      <td>549.0</td>\n",
       "      <td>12.0</td>\n",
       "      <td>...</td>\n",
       "      <td>1.0</td>\n",
       "      <td>1.0</td>\n",
       "      <td>0.0</td>\n",
       "      <td>0.0</td>\n",
       "      <td>0.0</td>\n",
       "      <td>0.0</td>\n",
       "      <td>0.0</td>\n",
       "      <td>0.0</td>\n",
       "      <td>0.0</td>\n",
       "      <td>1.0</td>\n",
       "    </tr>\n",
       "    <tr>\n",
       "      <th>of</th>\n",
       "      <td>65.0</td>\n",
       "      <td>10.0</td>\n",
       "      <td>134.0</td>\n",
       "      <td>10.0</td>\n",
       "      <td>27.0</td>\n",
       "      <td>12.0</td>\n",
       "      <td>169.0</td>\n",
       "      <td>62.0</td>\n",
       "      <td>29.0</td>\n",
       "      <td>2.0</td>\n",
       "      <td>...</td>\n",
       "      <td>0.0</td>\n",
       "      <td>0.0</td>\n",
       "      <td>0.0</td>\n",
       "      <td>0.0</td>\n",
       "      <td>1.0</td>\n",
       "      <td>0.0</td>\n",
       "      <td>0.0</td>\n",
       "      <td>0.0</td>\n",
       "      <td>2.0</td>\n",
       "      <td>0.0</td>\n",
       "    </tr>\n",
       "    <tr>\n",
       "      <th>and</th>\n",
       "      <td>68.0</td>\n",
       "      <td>80.0</td>\n",
       "      <td>38.0</td>\n",
       "      <td>42.0</td>\n",
       "      <td>27.0</td>\n",
       "      <td>158.0</td>\n",
       "      <td>25.0</td>\n",
       "      <td>25.0</td>\n",
       "      <td>41.0</td>\n",
       "      <td>55.0</td>\n",
       "      <td>...</td>\n",
       "      <td>0.0</td>\n",
       "      <td>0.0</td>\n",
       "      <td>0.0</td>\n",
       "      <td>0.0</td>\n",
       "      <td>0.0</td>\n",
       "      <td>0.0</td>\n",
       "      <td>0.0</td>\n",
       "      <td>0.0</td>\n",
       "      <td>0.0</td>\n",
       "      <td>0.0</td>\n",
       "    </tr>\n",
       "    <tr>\n",
       "      <th>to</th>\n",
       "      <td>16.0</td>\n",
       "      <td>35.0</td>\n",
       "      <td>314.0</td>\n",
       "      <td>8.0</td>\n",
       "      <td>10.0</td>\n",
       "      <td>44.0</td>\n",
       "      <td>30.0</td>\n",
       "      <td>278.0</td>\n",
       "      <td>206.0</td>\n",
       "      <td>5.0</td>\n",
       "      <td>...</td>\n",
       "      <td>1.0</td>\n",
       "      <td>0.0</td>\n",
       "      <td>0.0</td>\n",
       "      <td>0.0</td>\n",
       "      <td>0.0</td>\n",
       "      <td>0.0</td>\n",
       "      <td>0.0</td>\n",
       "      <td>0.0</td>\n",
       "      <td>0.0</td>\n",
       "      <td>0.0</td>\n",
       "    </tr>\n",
       "    <tr>\n",
       "      <th>a</th>\n",
       "      <td>12.0</td>\n",
       "      <td>1502.0</td>\n",
       "      <td>639.0</td>\n",
       "      <td>682.0</td>\n",
       "      <td>5.0</td>\n",
       "      <td>1432.0</td>\n",
       "      <td>219.0</td>\n",
       "      <td>875.0</td>\n",
       "      <td>790.0</td>\n",
       "      <td>7.0</td>\n",
       "      <td>...</td>\n",
       "      <td>0.0</td>\n",
       "      <td>0.0</td>\n",
       "      <td>0.0</td>\n",
       "      <td>0.0</td>\n",
       "      <td>0.0</td>\n",
       "      <td>0.0</td>\n",
       "      <td>0.0</td>\n",
       "      <td>0.0</td>\n",
       "      <td>0.0</td>\n",
       "      <td>0.0</td>\n",
       "    </tr>\n",
       "    <tr>\n",
       "      <th>...</th>\n",
       "      <td>...</td>\n",
       "      <td>...</td>\n",
       "      <td>...</td>\n",
       "      <td>...</td>\n",
       "      <td>...</td>\n",
       "      <td>...</td>\n",
       "      <td>...</td>\n",
       "      <td>...</td>\n",
       "      <td>...</td>\n",
       "      <td>...</td>\n",
       "      <td>...</td>\n",
       "      <td>...</td>\n",
       "      <td>...</td>\n",
       "      <td>...</td>\n",
       "      <td>...</td>\n",
       "      <td>...</td>\n",
       "      <td>...</td>\n",
       "      <td>...</td>\n",
       "      <td>...</td>\n",
       "      <td>...</td>\n",
       "      <td>...</td>\n",
       "    </tr>\n",
       "    <tr>\n",
       "      <th>Ind</th>\n",
       "      <td>0.0</td>\n",
       "      <td>0.0</td>\n",
       "      <td>0.0</td>\n",
       "      <td>0.0</td>\n",
       "      <td>0.0</td>\n",
       "      <td>0.0</td>\n",
       "      <td>0.0</td>\n",
       "      <td>0.0</td>\n",
       "      <td>0.0</td>\n",
       "      <td>0.0</td>\n",
       "      <td>...</td>\n",
       "      <td>0.0</td>\n",
       "      <td>0.0</td>\n",
       "      <td>0.0</td>\n",
       "      <td>0.0</td>\n",
       "      <td>0.0</td>\n",
       "      <td>0.0</td>\n",
       "      <td>0.0</td>\n",
       "      <td>0.0</td>\n",
       "      <td>0.0</td>\n",
       "      <td>0.0</td>\n",
       "    </tr>\n",
       "    <tr>\n",
       "      <th>midday</th>\n",
       "      <td>1.0</td>\n",
       "      <td>1.0</td>\n",
       "      <td>0.0</td>\n",
       "      <td>0.0</td>\n",
       "      <td>0.0</td>\n",
       "      <td>0.0</td>\n",
       "      <td>0.0</td>\n",
       "      <td>0.0</td>\n",
       "      <td>0.0</td>\n",
       "      <td>0.0</td>\n",
       "      <td>...</td>\n",
       "      <td>0.0</td>\n",
       "      <td>0.0</td>\n",
       "      <td>0.0</td>\n",
       "      <td>0.0</td>\n",
       "      <td>0.0</td>\n",
       "      <td>0.0</td>\n",
       "      <td>0.0</td>\n",
       "      <td>0.0</td>\n",
       "      <td>0.0</td>\n",
       "      <td>0.0</td>\n",
       "    </tr>\n",
       "    <tr>\n",
       "      <th>nооn</th>\n",
       "      <td>0.0</td>\n",
       "      <td>0.0</td>\n",
       "      <td>0.0</td>\n",
       "      <td>0.0</td>\n",
       "      <td>0.0</td>\n",
       "      <td>0.0</td>\n",
       "      <td>0.0</td>\n",
       "      <td>0.0</td>\n",
       "      <td>0.0</td>\n",
       "      <td>0.0</td>\n",
       "      <td>...</td>\n",
       "      <td>0.0</td>\n",
       "      <td>0.0</td>\n",
       "      <td>0.0</td>\n",
       "      <td>0.0</td>\n",
       "      <td>0.0</td>\n",
       "      <td>0.0</td>\n",
       "      <td>0.0</td>\n",
       "      <td>0.0</td>\n",
       "      <td>0.0</td>\n",
       "      <td>0.0</td>\n",
       "    </tr>\n",
       "    <tr>\n",
       "      <th>gem</th>\n",
       "      <td>0.0</td>\n",
       "      <td>0.0</td>\n",
       "      <td>0.0</td>\n",
       "      <td>0.0</td>\n",
       "      <td>1.0</td>\n",
       "      <td>0.0</td>\n",
       "      <td>1.0</td>\n",
       "      <td>0.0</td>\n",
       "      <td>0.0</td>\n",
       "      <td>0.0</td>\n",
       "      <td>...</td>\n",
       "      <td>0.0</td>\n",
       "      <td>0.0</td>\n",
       "      <td>0.0</td>\n",
       "      <td>0.0</td>\n",
       "      <td>0.0</td>\n",
       "      <td>0.0</td>\n",
       "      <td>0.0</td>\n",
       "      <td>0.0</td>\n",
       "      <td>0.0</td>\n",
       "      <td>0.0</td>\n",
       "    </tr>\n",
       "    <tr>\n",
       "      <th>pillow</th>\n",
       "      <td>5.0</td>\n",
       "      <td>0.0</td>\n",
       "      <td>0.0</td>\n",
       "      <td>0.0</td>\n",
       "      <td>1.0</td>\n",
       "      <td>0.0</td>\n",
       "      <td>0.0</td>\n",
       "      <td>0.0</td>\n",
       "      <td>0.0</td>\n",
       "      <td>0.0</td>\n",
       "      <td>...</td>\n",
       "      <td>0.0</td>\n",
       "      <td>0.0</td>\n",
       "      <td>0.0</td>\n",
       "      <td>0.0</td>\n",
       "      <td>0.0</td>\n",
       "      <td>0.0</td>\n",
       "      <td>0.0</td>\n",
       "      <td>0.0</td>\n",
       "      <td>0.0</td>\n",
       "      <td>0.0</td>\n",
       "    </tr>\n",
       "  </tbody>\n",
       "</table>\n",
       "<p>5032 rows × 5032 columns</p>\n",
       "</div>"
      ],
      "text/plain": [
       "         the      of     and      to     a      in    that     is    was  \\\n",
       "the     36.0  9774.0  2307.0  3525.0  18.0  6156.0  1407.0  810.0  549.0   \n",
       "of      65.0    10.0   134.0    10.0  27.0    12.0   169.0   62.0   29.0   \n",
       "and     68.0    80.0    38.0    42.0  27.0   158.0    25.0   25.0   41.0   \n",
       "to      16.0    35.0   314.0     8.0  10.0    44.0    30.0  278.0  206.0   \n",
       "a       12.0  1502.0   639.0   682.0   5.0  1432.0   219.0  875.0  790.0   \n",
       "...      ...     ...     ...     ...   ...     ...     ...    ...    ...   \n",
       "Ind      0.0     0.0     0.0     0.0   0.0     0.0     0.0    0.0    0.0   \n",
       "midday   1.0     1.0     0.0     0.0   0.0     0.0     0.0    0.0    0.0   \n",
       "nооn     0.0     0.0     0.0     0.0   0.0     0.0     0.0    0.0    0.0   \n",
       "gem      0.0     0.0     0.0     0.0   1.0     0.0     1.0    0.0    0.0   \n",
       "pillow   5.0     0.0     0.0     0.0   1.0     0.0     0.0    0.0    0.0   \n",
       "\n",
       "          he  ...  cock  cushion  tumbler  serf  signature  Ind  midday  nооn  \\\n",
       "the     12.0  ...   1.0      1.0      0.0   0.0        0.0  0.0     0.0   0.0   \n",
       "of       2.0  ...   0.0      0.0      0.0   0.0        1.0  0.0     0.0   0.0   \n",
       "and     55.0  ...   0.0      0.0      0.0   0.0        0.0  0.0     0.0   0.0   \n",
       "to       5.0  ...   1.0      0.0      0.0   0.0        0.0  0.0     0.0   0.0   \n",
       "a        7.0  ...   0.0      0.0      0.0   0.0        0.0  0.0     0.0   0.0   \n",
       "...      ...  ...   ...      ...      ...   ...        ...  ...     ...   ...   \n",
       "Ind      0.0  ...   0.0      0.0      0.0   0.0        0.0  0.0     0.0   0.0   \n",
       "midday   0.0  ...   0.0      0.0      0.0   0.0        0.0  0.0     0.0   0.0   \n",
       "nооn     0.0  ...   0.0      0.0      0.0   0.0        0.0  0.0     0.0   0.0   \n",
       "gem      0.0  ...   0.0      0.0      0.0   0.0        0.0  0.0     0.0   0.0   \n",
       "pillow   0.0  ...   0.0      0.0      0.0   0.0        0.0  0.0     0.0   0.0   \n",
       "\n",
       "        gem  pillow  \n",
       "the     0.0     1.0  \n",
       "of      2.0     0.0  \n",
       "and     0.0     0.0  \n",
       "to      0.0     0.0  \n",
       "a       0.0     0.0  \n",
       "...     ...     ...  \n",
       "Ind     0.0     0.0  \n",
       "midday  0.0     0.0  \n",
       "nооn    0.0     0.0  \n",
       "gem     0.0     0.0  \n",
       "pillow  0.0     0.0  \n",
       "\n",
       "[5032 rows x 5032 columns]"
      ]
     },
     "execution_count": 285,
     "metadata": {},
     "output_type": "execute_result"
    }
   ],
   "source": [
    "df = pd.DataFrame(0.0, index=fiveK_w, columns=fiveK_w)\n",
    "\n",
    "for entry in bigrams_mc:\n",
    "  # print(entry[0][0], entry[1])\n",
    "  # break\n",
    "    if entry[0][0] not in fiveK_w or entry[0][1] not in fiveK_w:\n",
    "#         bigrams_freq.pop(tuple((entry[0][0], entry[0][1])))\n",
    "        continue\n",
    "    else:\n",
    "        df[entry[0][0]][entry[0][1]] = entry[1]\n",
    "        \n",
    "df"
   ]
  },
  {
   "cell_type": "code",
   "execution_count": 286,
   "id": "76fe8488",
   "metadata": {},
   "outputs": [
    {
     "data": {
      "text/plain": [
       "the       float64\n",
       "of        float64\n",
       "and       float64\n",
       "to        float64\n",
       "a         float64\n",
       "           ...   \n",
       "Ind       float64\n",
       "midday    float64\n",
       "nооn      float64\n",
       "gem       float64\n",
       "pillow    float64\n",
       "Length: 5032, dtype: object"
      ]
     },
     "execution_count": 286,
     "metadata": {},
     "output_type": "execute_result"
    }
   ],
   "source": [
    "# df = df.astype(float)\n",
    "df.dtypes"
   ]
  },
  {
   "cell_type": "code",
   "execution_count": 287,
   "id": "51441a19",
   "metadata": {},
   "outputs": [],
   "source": [
    "import math\n",
    "\n",
    "def get_ppmi(bigram, sum_bg, sum_ug):\n",
    "    co_occurence = (bigrams_freq.get(bigram)/sum_bg)\n",
    "#     print(\"co_occurence: \", co_occurence)\n",
    "    p_w1 = (fdist.get(bigram[0])/sum_ug)\n",
    "#     print(\"p_w1: \", p_w1)\n",
    "    p_w2 = (fdist.get(bigram[1])/sum_ug)\n",
    "#     print(\"p_w2: \", p_w2)\n",
    "    \n",
    "#     print(math.log(co_occurence/(p_w1*p_w2)))\n",
    "    ppmi = math.log(co_occurence/(p_w1*p_w2), 2)\n",
    "#     print(ppmi)\n",
    "    return max(ppmi,0)\n",
    "    "
   ]
  },
  {
   "cell_type": "code",
   "execution_count": 288,
   "id": "31205f16",
   "metadata": {},
   "outputs": [
    {
     "name": "stdout",
     "output_type": "stream",
     "text": [
      "981715\n",
      "981716\n"
     ]
    },
    {
     "data": {
      "text/html": [
       "<div>\n",
       "<style scoped>\n",
       "    .dataframe tbody tr th:only-of-type {\n",
       "        vertical-align: middle;\n",
       "    }\n",
       "\n",
       "    .dataframe tbody tr th {\n",
       "        vertical-align: top;\n",
       "    }\n",
       "\n",
       "    .dataframe thead th {\n",
       "        text-align: right;\n",
       "    }\n",
       "</style>\n",
       "<table border=\"1\" class=\"dataframe\">\n",
       "  <thead>\n",
       "    <tr style=\"text-align: right;\">\n",
       "      <th></th>\n",
       "      <th>the</th>\n",
       "      <th>of</th>\n",
       "      <th>and</th>\n",
       "      <th>to</th>\n",
       "      <th>a</th>\n",
       "      <th>in</th>\n",
       "      <th>that</th>\n",
       "      <th>is</th>\n",
       "      <th>was</th>\n",
       "      <th>he</th>\n",
       "      <th>...</th>\n",
       "      <th>cock</th>\n",
       "      <th>cushion</th>\n",
       "      <th>tumbler</th>\n",
       "      <th>serf</th>\n",
       "      <th>signature</th>\n",
       "      <th>Ind</th>\n",
       "      <th>midday</th>\n",
       "      <th>nооn</th>\n",
       "      <th>gem</th>\n",
       "      <th>pillow</th>\n",
       "    </tr>\n",
       "  </thead>\n",
       "  <tbody>\n",
       "    <tr>\n",
       "      <th>the</th>\n",
       "      <td>0.000000</td>\n",
       "      <td>0.000000</td>\n",
       "      <td>0.0</td>\n",
       "      <td>0.0</td>\n",
       "      <td>0.000000</td>\n",
       "      <td>0.0</td>\n",
       "      <td>0.0</td>\n",
       "      <td>0.0</td>\n",
       "      <td>0.0</td>\n",
       "      <td>0.000000</td>\n",
       "      <td>...</td>\n",
       "      <td>0.000000</td>\n",
       "      <td>1.810478</td>\n",
       "      <td>0.000000</td>\n",
       "      <td>0.0</td>\n",
       "      <td>1.225516</td>\n",
       "      <td>0.0</td>\n",
       "      <td>1.488550</td>\n",
       "      <td>0.0</td>\n",
       "      <td>0.000000</td>\n",
       "      <td>3.132406</td>\n",
       "    </tr>\n",
       "    <tr>\n",
       "      <th>of</th>\n",
       "      <td>1.913085</td>\n",
       "      <td>0.000000</td>\n",
       "      <td>0.0</td>\n",
       "      <td>0.0</td>\n",
       "      <td>0.803964</td>\n",
       "      <td>0.0</td>\n",
       "      <td>0.0</td>\n",
       "      <td>0.0</td>\n",
       "      <td>0.0</td>\n",
       "      <td>0.000000</td>\n",
       "      <td>...</td>\n",
       "      <td>0.000000</td>\n",
       "      <td>0.000000</td>\n",
       "      <td>0.000000</td>\n",
       "      <td>0.0</td>\n",
       "      <td>0.000000</td>\n",
       "      <td>0.0</td>\n",
       "      <td>2.430893</td>\n",
       "      <td>0.0</td>\n",
       "      <td>0.000000</td>\n",
       "      <td>0.000000</td>\n",
       "    </tr>\n",
       "    <tr>\n",
       "      <th>and</th>\n",
       "      <td>0.165847</td>\n",
       "      <td>0.000000</td>\n",
       "      <td>0.0</td>\n",
       "      <td>0.0</td>\n",
       "      <td>0.000000</td>\n",
       "      <td>0.0</td>\n",
       "      <td>0.0</td>\n",
       "      <td>0.0</td>\n",
       "      <td>0.0</td>\n",
       "      <td>0.608998</td>\n",
       "      <td>...</td>\n",
       "      <td>0.000000</td>\n",
       "      <td>0.000000</td>\n",
       "      <td>0.000000</td>\n",
       "      <td>0.0</td>\n",
       "      <td>0.000000</td>\n",
       "      <td>0.0</td>\n",
       "      <td>0.000000</td>\n",
       "      <td>0.0</td>\n",
       "      <td>0.000000</td>\n",
       "      <td>0.000000</td>\n",
       "    </tr>\n",
       "    <tr>\n",
       "      <th>to</th>\n",
       "      <td>0.918921</td>\n",
       "      <td>0.000000</td>\n",
       "      <td>0.0</td>\n",
       "      <td>0.0</td>\n",
       "      <td>0.142085</td>\n",
       "      <td>0.0</td>\n",
       "      <td>0.0</td>\n",
       "      <td>0.0</td>\n",
       "      <td>0.0</td>\n",
       "      <td>0.000000</td>\n",
       "      <td>...</td>\n",
       "      <td>0.000000</td>\n",
       "      <td>3.229983</td>\n",
       "      <td>0.000000</td>\n",
       "      <td>0.0</td>\n",
       "      <td>0.000000</td>\n",
       "      <td>0.0</td>\n",
       "      <td>0.000000</td>\n",
       "      <td>0.0</td>\n",
       "      <td>0.000000</td>\n",
       "      <td>0.000000</td>\n",
       "    </tr>\n",
       "    <tr>\n",
       "      <th>a</th>\n",
       "      <td>0.000000</td>\n",
       "      <td>0.000000</td>\n",
       "      <td>0.0</td>\n",
       "      <td>0.0</td>\n",
       "      <td>0.000000</td>\n",
       "      <td>0.0</td>\n",
       "      <td>0.0</td>\n",
       "      <td>0.0</td>\n",
       "      <td>0.0</td>\n",
       "      <td>0.000000</td>\n",
       "      <td>...</td>\n",
       "      <td>3.081493</td>\n",
       "      <td>3.403421</td>\n",
       "      <td>4.403421</td>\n",
       "      <td>0.0</td>\n",
       "      <td>2.818459</td>\n",
       "      <td>0.0</td>\n",
       "      <td>0.000000</td>\n",
       "      <td>0.0</td>\n",
       "      <td>3.403421</td>\n",
       "      <td>2.403421</td>\n",
       "    </tr>\n",
       "    <tr>\n",
       "      <th>...</th>\n",
       "      <td>...</td>\n",
       "      <td>...</td>\n",
       "      <td>...</td>\n",
       "      <td>...</td>\n",
       "      <td>...</td>\n",
       "      <td>...</td>\n",
       "      <td>...</td>\n",
       "      <td>...</td>\n",
       "      <td>...</td>\n",
       "      <td>...</td>\n",
       "      <td>...</td>\n",
       "      <td>...</td>\n",
       "      <td>...</td>\n",
       "      <td>...</td>\n",
       "      <td>...</td>\n",
       "      <td>...</td>\n",
       "      <td>...</td>\n",
       "      <td>...</td>\n",
       "      <td>...</td>\n",
       "      <td>...</td>\n",
       "      <td>...</td>\n",
       "    </tr>\n",
       "    <tr>\n",
       "      <th>Ind</th>\n",
       "      <td>0.000000</td>\n",
       "      <td>0.000000</td>\n",
       "      <td>0.0</td>\n",
       "      <td>0.0</td>\n",
       "      <td>0.000000</td>\n",
       "      <td>0.0</td>\n",
       "      <td>0.0</td>\n",
       "      <td>0.0</td>\n",
       "      <td>0.0</td>\n",
       "      <td>0.000000</td>\n",
       "      <td>...</td>\n",
       "      <td>0.000000</td>\n",
       "      <td>0.000000</td>\n",
       "      <td>0.000000</td>\n",
       "      <td>0.0</td>\n",
       "      <td>0.000000</td>\n",
       "      <td>0.0</td>\n",
       "      <td>0.000000</td>\n",
       "      <td>0.0</td>\n",
       "      <td>0.000000</td>\n",
       "      <td>0.000000</td>\n",
       "    </tr>\n",
       "    <tr>\n",
       "      <th>midday</th>\n",
       "      <td>0.000000</td>\n",
       "      <td>0.000000</td>\n",
       "      <td>0.0</td>\n",
       "      <td>0.0</td>\n",
       "      <td>0.000000</td>\n",
       "      <td>0.0</td>\n",
       "      <td>0.0</td>\n",
       "      <td>0.0</td>\n",
       "      <td>0.0</td>\n",
       "      <td>0.000000</td>\n",
       "      <td>...</td>\n",
       "      <td>0.000000</td>\n",
       "      <td>0.000000</td>\n",
       "      <td>0.000000</td>\n",
       "      <td>0.0</td>\n",
       "      <td>0.000000</td>\n",
       "      <td>0.0</td>\n",
       "      <td>0.000000</td>\n",
       "      <td>0.0</td>\n",
       "      <td>0.000000</td>\n",
       "      <td>0.000000</td>\n",
       "    </tr>\n",
       "    <tr>\n",
       "      <th>nооn</th>\n",
       "      <td>0.000000</td>\n",
       "      <td>0.000000</td>\n",
       "      <td>0.0</td>\n",
       "      <td>0.0</td>\n",
       "      <td>0.000000</td>\n",
       "      <td>0.0</td>\n",
       "      <td>0.0</td>\n",
       "      <td>0.0</td>\n",
       "      <td>0.0</td>\n",
       "      <td>0.000000</td>\n",
       "      <td>...</td>\n",
       "      <td>0.000000</td>\n",
       "      <td>0.000000</td>\n",
       "      <td>0.000000</td>\n",
       "      <td>0.0</td>\n",
       "      <td>0.000000</td>\n",
       "      <td>0.0</td>\n",
       "      <td>0.000000</td>\n",
       "      <td>0.0</td>\n",
       "      <td>0.000000</td>\n",
       "      <td>0.000000</td>\n",
       "    </tr>\n",
       "    <tr>\n",
       "      <th>gem</th>\n",
       "      <td>0.000000</td>\n",
       "      <td>3.752821</td>\n",
       "      <td>0.0</td>\n",
       "      <td>0.0</td>\n",
       "      <td>0.000000</td>\n",
       "      <td>0.0</td>\n",
       "      <td>0.0</td>\n",
       "      <td>0.0</td>\n",
       "      <td>0.0</td>\n",
       "      <td>0.000000</td>\n",
       "      <td>...</td>\n",
       "      <td>0.000000</td>\n",
       "      <td>0.000000</td>\n",
       "      <td>0.000000</td>\n",
       "      <td>0.0</td>\n",
       "      <td>0.000000</td>\n",
       "      <td>0.0</td>\n",
       "      <td>0.000000</td>\n",
       "      <td>0.0</td>\n",
       "      <td>0.000000</td>\n",
       "      <td>0.000000</td>\n",
       "    </tr>\n",
       "    <tr>\n",
       "      <th>pillow</th>\n",
       "      <td>0.810478</td>\n",
       "      <td>0.000000</td>\n",
       "      <td>0.0</td>\n",
       "      <td>0.0</td>\n",
       "      <td>0.000000</td>\n",
       "      <td>0.0</td>\n",
       "      <td>0.0</td>\n",
       "      <td>0.0</td>\n",
       "      <td>0.0</td>\n",
       "      <td>3.683965</td>\n",
       "      <td>...</td>\n",
       "      <td>0.000000</td>\n",
       "      <td>0.000000</td>\n",
       "      <td>0.000000</td>\n",
       "      <td>0.0</td>\n",
       "      <td>0.000000</td>\n",
       "      <td>0.0</td>\n",
       "      <td>0.000000</td>\n",
       "      <td>0.0</td>\n",
       "      <td>0.000000</td>\n",
       "      <td>0.000000</td>\n",
       "    </tr>\n",
       "  </tbody>\n",
       "</table>\n",
       "<p>5032 rows × 5032 columns</p>\n",
       "</div>"
      ],
      "text/plain": [
       "             the        of  and   to         a   in  that   is  was        he  \\\n",
       "the     0.000000  0.000000  0.0  0.0  0.000000  0.0   0.0  0.0  0.0  0.000000   \n",
       "of      1.913085  0.000000  0.0  0.0  0.803964  0.0   0.0  0.0  0.0  0.000000   \n",
       "and     0.165847  0.000000  0.0  0.0  0.000000  0.0   0.0  0.0  0.0  0.608998   \n",
       "to      0.918921  0.000000  0.0  0.0  0.142085  0.0   0.0  0.0  0.0  0.000000   \n",
       "a       0.000000  0.000000  0.0  0.0  0.000000  0.0   0.0  0.0  0.0  0.000000   \n",
       "...          ...       ...  ...  ...       ...  ...   ...  ...  ...       ...   \n",
       "Ind     0.000000  0.000000  0.0  0.0  0.000000  0.0   0.0  0.0  0.0  0.000000   \n",
       "midday  0.000000  0.000000  0.0  0.0  0.000000  0.0   0.0  0.0  0.0  0.000000   \n",
       "nооn    0.000000  0.000000  0.0  0.0  0.000000  0.0   0.0  0.0  0.0  0.000000   \n",
       "gem     0.000000  3.752821  0.0  0.0  0.000000  0.0   0.0  0.0  0.0  0.000000   \n",
       "pillow  0.810478  0.000000  0.0  0.0  0.000000  0.0   0.0  0.0  0.0  3.683965   \n",
       "\n",
       "        ...      cock   cushion   tumbler  serf  signature  Ind    midday  \\\n",
       "the     ...  0.000000  1.810478  0.000000   0.0   1.225516  0.0  1.488550   \n",
       "of      ...  0.000000  0.000000  0.000000   0.0   0.000000  0.0  2.430893   \n",
       "and     ...  0.000000  0.000000  0.000000   0.0   0.000000  0.0  0.000000   \n",
       "to      ...  0.000000  3.229983  0.000000   0.0   0.000000  0.0  0.000000   \n",
       "a       ...  3.081493  3.403421  4.403421   0.0   2.818459  0.0  0.000000   \n",
       "...     ...       ...       ...       ...   ...        ...  ...       ...   \n",
       "Ind     ...  0.000000  0.000000  0.000000   0.0   0.000000  0.0  0.000000   \n",
       "midday  ...  0.000000  0.000000  0.000000   0.0   0.000000  0.0  0.000000   \n",
       "nооn    ...  0.000000  0.000000  0.000000   0.0   0.000000  0.0  0.000000   \n",
       "gem     ...  0.000000  0.000000  0.000000   0.0   0.000000  0.0  0.000000   \n",
       "pillow  ...  0.000000  0.000000  0.000000   0.0   0.000000  0.0  0.000000   \n",
       "\n",
       "        nооn       gem    pillow  \n",
       "the      0.0  0.000000  3.132406  \n",
       "of       0.0  0.000000  0.000000  \n",
       "and      0.0  0.000000  0.000000  \n",
       "to       0.0  0.000000  0.000000  \n",
       "a        0.0  3.403421  2.403421  \n",
       "...      ...       ...       ...  \n",
       "Ind      0.0  0.000000  0.000000  \n",
       "midday   0.0  0.000000  0.000000  \n",
       "nооn     0.0  0.000000  0.000000  \n",
       "gem      0.0  0.000000  0.000000  \n",
       "pillow   0.0  0.000000  0.000000  \n",
       "\n",
       "[5032 rows x 5032 columns]"
      ]
     },
     "execution_count": 288,
     "metadata": {},
     "output_type": "execute_result"
    }
   ],
   "source": [
    "sum_bigrams = sum(bigrams_freq.values())\n",
    "print(sum_bigrams)\n",
    "sum_unigrams = sum(fdist.values())\n",
    "print(sum_unigrams)\n",
    "ppmi_matrix = pd.DataFrame(0.0, columns=df.columns, index=df.index)\n",
    "for bg in bigrams_freq:\n",
    "#     print(bg)\n",
    "    if bg[0] not in fiveK_w or bg[1] not in fiveK_w:\n",
    "        continue\n",
    "        \n",
    "    else:\n",
    "        ppmi = get_ppmi(bg, sum_bigrams, sum_unigrams)\n",
    "        ppmi_matrix.loc[bg[0], bg[1]] = ppmi\n",
    "ppmi_matrix"
   ]
  },
  {
   "cell_type": "code",
   "execution_count": 289,
   "id": "ed51476d",
   "metadata": {},
   "outputs": [
    {
     "data": {
      "text/plain": [
       "the       2713\n",
       "of        1841\n",
       "and       2358\n",
       "to        1148\n",
       "a         1907\n",
       "          ... \n",
       "Ind          0\n",
       "midday       4\n",
       "nооn         0\n",
       "gem          3\n",
       "pillow       5\n",
       "Length: 5032, dtype: int64"
      ]
     },
     "execution_count": 289,
     "metadata": {},
     "output_type": "execute_result"
    }
   ],
   "source": [
    "# ppmi_matrix = ppmi_matrix.astype('float')\n",
    "\n",
    "# ppmi_matrix.fillna(0)\n",
    "# ppmi_matrix.dtypes\n",
    "ppmi_matrix.astype(bool).sum(axis=1)"
   ]
  },
  {
   "cell_type": "code",
   "execution_count": 290,
   "id": "366d740a",
   "metadata": {},
   "outputs": [],
   "source": [
    "from sklearn.decomposition import PCA\n",
    "\n",
    "\n",
    "pca = PCA(n_components=300)\n",
    "result = pca.fit_transform(ppmi_matrix)"
   ]
  },
  {
   "cell_type": "code",
   "execution_count": 335,
   "id": "f1d83535",
   "metadata": {},
   "outputs": [],
   "source": [
    "# print(pca.explained_variance_ratio_)\n",
    "# print(pca.singular_values_)"
   ]
  },
  {
   "cell_type": "code",
   "execution_count": 341,
   "id": "aef208cc",
   "metadata": {},
   "outputs": [],
   "source": [
    "# temp = list(fdist.keys())\n",
    "fiveK_w_index = {}\n",
    "for i in range(0, len(fiveK_w)):\n",
    "    fiveK_w_index[fiveK_w[i]] = i\n",
    "    \n",
    "# fiveK_w_index"
   ]
  },
  {
   "cell_type": "code",
   "execution_count": 292,
   "id": "a53c7da4",
   "metadata": {},
   "outputs": [
    {
     "name": "stdout",
     "output_type": "stream",
     "text": [
      "(5032, 300)\n"
     ]
    }
   ],
   "source": [
    "print(result.shape)\n",
    "M2_10 = result[:,10]\n",
    "M2_100 = result[:,100]\n",
    "M2_300 = result[:,:]"
   ]
  },
  {
   "cell_type": "code",
   "execution_count": 293,
   "id": "7e52430f",
   "metadata": {},
   "outputs": [],
   "source": [
    "lsa_model = KeyedVectors(300)\n",
    "lsa_model.add_vectors(fiveK_w, M2_300)\n",
    "\n",
    "lsa_analogy_scores, lsa_scores_by_section = lsa_model.evaluate_word_analogies('word-test.v1.txt')\n"
   ]
  },
  {
   "cell_type": "code",
   "execution_count": 294,
   "id": "20eef05a",
   "metadata": {
    "scrolled": false
   },
   "outputs": [
    {
     "name": "stdout",
     "output_type": "stream",
     "text": [
      "{'capital-common-countries': 0.05, 'capital-world': 0.16666666666666666, 'currency': inf, 'city-in-state': 0.01694915254237288, 'family': 0.18888888888888888, 'gram1-adjective-to-adverb': 0.007894736842105263, 'gram2-opposite': 0.0, 'gram3-comparative': 0.18382352941176472, 'gram4-superlative': 0.11904761904761904, 'gram5-present-participle': 0.09558823529411764, 'gram6-nationality-adjective': 0.011494252873563218, 'gram7-past-tense': 0.135, 'gram8-plural': 0.0032679738562091504, 'gram9-plural-verbs': 0.045454545454545456, 'Total accuracy': 0.08442694663167104}\n"
     ]
    }
   ],
   "source": [
    "# Step 4 - lsa accuracy scores\n",
    "\n",
    "lsa_accuracy_scores = {}\n",
    "\n",
    "for sections in lsa_scores_by_section:\n",
    "    correct = len(sections['correct'])\n",
    "    wrong = len(sections['incorrect'])\n",
    "    try:\n",
    "        lsa_accuracy_scores[sections['section']] = correct/(correct + wrong)\n",
    "    except ZeroDivisionError:\n",
    "        lsa_accuracy_scores[sections['section']] = np.inf\n",
    "    \n",
    "print(lsa_accuracy_scores)"
   ]
  },
  {
   "cell_type": "code",
   "execution_count": 296,
   "id": "93b65c68",
   "metadata": {},
   "outputs": [],
   "source": [
    "# Create small test set\n",
    "\n",
    "file_text = ''\n",
    "\n",
    "with open('words_test_small.txt', 'w') as f_small:\n",
    "    for section in lsa_scores_by_section:\n",
    "        section_name = section['section']\n",
    "        if section_name == 'Total accuracy':\n",
    "            continue\n",
    "        else:\n",
    "            f_small.write(': ' + section_name + '\\n')\n",
    "            for correct in section['correct']:\n",
    "                f_small.write(' '.join(correct) + '\\n')\n",
    "            for incorrect in section['incorrect']:\n",
    "                f_small.write(' '.join(incorrect) + '\\n')"
   ]
  },
  {
   "cell_type": "code",
   "execution_count": 343,
   "id": "8c8aa2ad",
   "metadata": {},
   "outputs": [],
   "source": [
    "#Q2 Step 1\n",
    "\n",
    "with open('embeddings/data.pkl', 'rb') as we:\n",
    "    data = pickle.load(we)"
   ]
  },
  {
   "cell_type": "code",
   "execution_count": 342,
   "id": "29e1a272",
   "metadata": {},
   "outputs": [],
   "source": [
    "# !pip install torch torchvision\n",
    "# !pip install tensorflow"
   ]
  },
  {
   "cell_type": "code",
   "execution_count": 255,
   "id": "26dce3a7",
   "metadata": {},
   "outputs": [],
   "source": [
    "# UNCOMMENT THIS BLOCK TO RUN SHUFFLED CORPUS CODE\n",
    "\n",
    "# Shuffle the corpus to remove any \"real semantic change\"\n",
    "\n",
    "# import random\n",
    "# # print(len(data['E'][0]))\n",
    "\n",
    "# for word_vector in range(0, len(data['E'])):\n",
    "#     random.shuffle(data['E'][word_vector])   \n"
   ]
  },
  {
   "cell_type": "code",
   "execution_count": 276,
   "id": "de8aec0c",
   "metadata": {},
   "outputs": [
    {
     "name": "stdout",
     "output_type": "stream",
     "text": [
      "10\n",
      "300 300\n"
     ]
    }
   ],
   "source": [
    "# Linear transformation for word embedding alignment\n",
    "\n",
    "import torch\n",
    "import tensorflow as tf\n",
    "import numpy as np\n",
    "\n",
    "list_tensor = []\n",
    "\n",
    "for word_vector in range(0, len(data['E'][0])):\n",
    "    t_wv = torch.FloatTensor(np.array(data['E'][0][word_vector]))\n",
    "    list_tensor.append(t_wv)\n",
    "\n",
    "print(len(list_tensor))\n",
    "print(list_tensor[0].size(0), list_tensor[1].size(0))"
   ]
  },
  {
   "cell_type": "code",
   "execution_count": 277,
   "id": "653a77e8",
   "metadata": {},
   "outputs": [],
   "source": [
    "# Linear transformation for word embedding alignment\n",
    "\n",
    "from torch.autograd import Variable\n",
    "\n",
    "def train_model(input_list):\n",
    "    \n",
    "    criterion = torch.nn.MSELoss() \n",
    "    optimizer = torch.optim.SGD(model_1.parameters(), lr=learningRate)\n",
    "    \n",
    "    inputs = Variable(torch.from_numpy(np.array(input_list[0])))\n",
    "    labels = Variable(torch.from_numpy(np.array(input_list[1])))\n",
    "    \n",
    "    for epoch in range(epochs):\n",
    "\n",
    "        optimizer.zero_grad()\n",
    "        outputs = model_1(inputs)\n",
    "        \n",
    "        loss = criterion(outputs, labels)\n",
    "        loss.backward()\n",
    "        optimizer.step()\n",
    "        \n",
    "        print('epoch {}, loss {}'.format(epoch, loss.item()))\n",
    "        "
   ]
  },
  {
   "cell_type": "code",
   "execution_count": 278,
   "id": "d87a039f",
   "metadata": {},
   "outputs": [
    {
     "name": "stdout",
     "output_type": "stream",
     "text": [
      "epoch 0, loss 0.0053369649685919285\n",
      "epoch 1, loss 0.005335541442036629\n",
      "epoch 2, loss 0.005334118381142616\n",
      "epoch 3, loss 0.005332696717232466\n",
      "epoch 4, loss 0.005331274121999741\n",
      "epoch 5, loss 0.005329853389412165\n",
      "epoch 6, loss 0.005328431725502014\n",
      "epoch 7, loss 0.005327010992914438\n",
      "epoch 8, loss 0.005325590260326862\n",
      "epoch 9, loss 0.005324170459061861\n",
      "epoch 10, loss 0.005322750192135572\n",
      "epoch 11, loss 0.005321331787854433\n",
      "epoch 12, loss 0.005319912452250719\n",
      "epoch 13, loss 0.00531849404796958\n",
      "epoch 14, loss 0.00531707564368844\n",
      "epoch 15, loss 0.0053156581707298756\n",
      "epoch 16, loss 0.005314240697771311\n",
      "epoch 17, loss 0.005312823224812746\n",
      "epoch 18, loss 0.005311407148838043\n",
      "epoch 19, loss 0.005309990141540766\n",
      "epoch 20, loss 0.0053085749968886375\n",
      "epoch 21, loss 0.005307158920913935\n",
      "epoch 22, loss 0.005305744241923094\n",
      "epoch 23, loss 0.005304329097270966\n",
      "epoch 24, loss 0.005302914883941412\n",
      "epoch 25, loss 0.005301501136273146\n",
      "epoch 26, loss 0.005300086922943592\n",
      "epoch 27, loss 0.005298673640936613\n",
      "epoch 28, loss 0.005297261290252209\n",
      "epoch 29, loss 0.005295848473906517\n",
      "epoch 30, loss 0.005294436123222113\n",
      "epoch 31, loss 0.005293024238198996\n",
      "epoch 32, loss 0.0052916123531758785\n",
      "epoch 33, loss 0.005290201399475336\n",
      "epoch 34, loss 0.0052887918427586555\n",
      "epoch 35, loss 0.005287380889058113\n",
      "epoch 36, loss 0.005285971332341433\n",
      "epoch 37, loss 0.005284562241286039\n",
      "epoch 38, loss 0.005283152684569359\n",
      "epoch 39, loss 0.005281744059175253\n",
      "epoch 40, loss 0.005280335433781147\n",
      "epoch 41, loss 0.005278927739709616\n",
      "epoch 42, loss 0.005277519579976797\n",
      "epoch 43, loss 0.005276112351566553\n",
      "epoch 44, loss 0.0052747055888175964\n",
      "epoch 45, loss 0.005273299291729927\n",
      "epoch 46, loss 0.005271893460303545\n",
      "epoch 47, loss 0.00527048809453845\n",
      "epoch 48, loss 0.0052690827287733555\n",
      "epoch 49, loss 0.005267676897346973\n",
      "epoch 50, loss 0.005266272462904453\n",
      "epoch 51, loss 0.0052648684941232204\n",
      "epoch 52, loss 0.005263464525341988\n",
      "epoch 53, loss 0.005262061022222042\n",
      "epoch 54, loss 0.005260657984763384\n",
      "epoch 55, loss 0.005259254947304726\n",
      "epoch 56, loss 0.005257852841168642\n",
      "epoch 57, loss 0.0052564507350325584\n",
      "epoch 58, loss 0.005255049094557762\n",
      "epoch 59, loss 0.005253647919744253\n",
      "epoch 60, loss 0.005252246279269457\n",
      "epoch 61, loss 0.0052508460357785225\n",
      "epoch 62, loss 0.005249445792287588\n",
      "epoch 63, loss 0.005248046945780516\n",
      "epoch 64, loss 0.005246647167950869\n",
      "epoch 65, loss 0.005245247855782509\n",
      "epoch 66, loss 0.005243849940598011\n",
      "epoch 67, loss 0.005242451559752226\n",
      "epoch 68, loss 0.005241053644567728\n",
      "epoch 69, loss 0.005239655263721943\n",
      "epoch 70, loss 0.00523825827986002\n",
      "epoch 71, loss 0.005236862227320671\n",
      "epoch 72, loss 0.005235465709120035\n",
      "epoch 73, loss 0.005234069656580687\n",
      "epoch 74, loss 0.005232674069702625\n",
      "epoch 75, loss 0.005231278948485851\n",
      "epoch 76, loss 0.00522988336160779\n",
      "epoch 77, loss 0.005228489171713591\n",
      "epoch 78, loss 0.005227094981819391\n",
      "epoch 79, loss 0.005225700791925192\n",
      "epoch 80, loss 0.005224307999014854\n",
      "epoch 81, loss 0.00522291474044323\n",
      "epoch 82, loss 0.005221521947532892\n",
      "epoch 83, loss 0.005220129620283842\n",
      "epoch 84, loss 0.005218737293034792\n",
      "epoch 85, loss 0.005217346362769604\n",
      "epoch 86, loss 0.005215954966843128\n",
      "epoch 87, loss 0.00521456403657794\n",
      "epoch 88, loss 0.005213174037635326\n",
      "epoch 89, loss 0.0052117835730314255\n",
      "epoch 90, loss 0.005210393574088812\n",
      "epoch 91, loss 0.00520900497213006\n",
      "epoch 92, loss 0.005207615438848734\n",
      "epoch 93, loss 0.0052062273025512695\n",
      "epoch 94, loss 0.005204838700592518\n",
      "epoch 95, loss 0.0052034505642950535\n",
      "epoch 96, loss 0.005202063824981451\n",
      "epoch 97, loss 0.005200676620006561\n",
      "epoch 98, loss 0.0051992894150316715\n",
      "epoch 99, loss 0.005197903141379356\n"
     ]
    }
   ],
   "source": [
    "# Method 1\n",
    "# Linear transformation for word embedding alignment\n",
    "\n",
    "learningRate = 0.01 \n",
    "epochs = 100\n",
    "model_1 = torch.nn.Linear(list_tensor[0].size(0), list_tensor[1].size(0))\n",
    "\n",
    "\n",
    "train_model(list_tensor)"
   ]
  },
  {
   "cell_type": "code",
   "execution_count": 279,
   "id": "8344b1b0",
   "metadata": {},
   "outputs": [
    {
     "name": "stdout",
     "output_type": "stream",
     "text": [
      "2000\n"
     ]
    }
   ],
   "source": [
    "# Method 1\n",
    "\n",
    "cosine_wv = []\n",
    "cosine_dist = torch.nn.CosineSimilarity(dim=0)\n",
    "for word in range(0, len(data['E'])):\n",
    "    temp_wv = []\n",
    "    ref_wv = torch.FloatTensor(np.array(data['E'][word][0]))\n",
    "    for word_vector in range(1, len(data['E'][word])):\n",
    "        rotated_wv = model_1(torch.FloatTensor(np.array(data['E'][word][word_vector])))\n",
    "        cosine = cosine_dist(ref_wv, rotated_wv)\n",
    "        temp_wv.append(1 - cosine)\n",
    "        \n",
    "    cosine_wv.append(temp_wv)\n",
    "    \n",
    "print(len(cosine_wv))"
   ]
  },
  {
   "cell_type": "code",
   "execution_count": 201,
   "id": "4aac5979",
   "metadata": {},
   "outputs": [
    {
     "name": "stdout",
     "output_type": "stream",
     "text": [
      "[12, 9, 1495, 27, 788, 683, 1492, 1021, 1983, 1662, 619, 665, 1500, 976, 276, 42, 605, 693, 1894]\n",
      "['united', 'states', 'districts', 'country', 'concern', 'senate', 'departments', 'massachusetts', 'concerns', 'votes', 'vote', 'staff', 'wisconsin', 'pennsylvania', 'existence', 'things', 'introduction', 'papers', 'j']\n"
     ]
    }
   ],
   "source": [
    "# Method 1\n",
    "\n",
    "def get_top_20(cosine_wv):\n",
    "    top_20 = []\n",
    "    temp_20 = {}\n",
    "    for word in range(0, len(cosine_wv)):\n",
    "        least = max(cosine_wv[word]) \n",
    "        # make set and store \"word\" as idx too\n",
    "        temp_20[word] = least\n",
    "    \n",
    "    new_temp_20 = temp_20\n",
    "    i = 1\n",
    "    while(i<20):\n",
    "        idx = max(new_temp_20, key=new_temp_20.get)\n",
    "#         idx = new_temp_20.index(max(new_temp_20))\n",
    "        top_20.append(idx)\n",
    "        new_temp_20.pop(idx)\n",
    "        i += 1\n",
    "    print(top_20)\n",
    "    return top_20\n",
    "    \n",
    "top_20 = get_top_20(cosine_wv)\n",
    "\n",
    "def get_top_20_words(get_top_20):\n",
    "    top_20_words = [data['w'][i] for i in get_top_20]\n",
    "    print(top_20_words)\n",
    "    return top_20_words\n",
    "\n",
    "top_20_words = get_top_20_words(top_20)\n",
    "    "
   ]
  },
  {
   "cell_type": "code",
   "execution_count": 280,
   "id": "e78e805f",
   "metadata": {},
   "outputs": [
    {
     "name": "stdout",
     "output_type": "stream",
     "text": [
      "[1963, 1366, 1432, 311, 1927, 1208, 1184, 1064, 887, 1006, 1662, 64, 309, 798, 1275, 505, 766, 660, 507]\n",
      "['associations', 'engineering', 'societies', 'majority', 'images', 'churches', 'ice', 'organizations', 'instances', 'evolution', 'votes', 'study', 'forms', 'ends', 'positions', 'types', 'independence', 'aspects', 'failure']\n"
     ]
    }
   ],
   "source": [
    "# Method 1\n",
    "\n",
    "def get_bottom_20(cosine_wv):\n",
    "    bottom_20 = []\n",
    "    temp_20 = {}\n",
    "    for word in range(0, len(cosine_wv)):\n",
    "        most = min(cosine_wv[word])\n",
    "#         temp_20.append(most)\n",
    "        temp_20[word] = most\n",
    "    \n",
    "    new_temp_20 = temp_20\n",
    "    i = 1\n",
    "    while(i<20):\n",
    "        idx = min(new_temp_20, key=new_temp_20.get)\n",
    "#         idx = new_temp_20.index(min(new_temp_20))\n",
    "        bottom_20.append(idx)\n",
    "        new_temp_20.pop(idx)\n",
    "        i += 1\n",
    "    print(bottom_20)\n",
    "    return bottom_20\n",
    "    \n",
    "bottom_20 = get_bottom_20(cosine_wv)\n",
    "\n",
    "def get_bottom_20_words(get_bottom_20):\n",
    "    bottom_20_words = [data['w'][i] for i in get_bottom_20]\n",
    "    print(bottom_20_words)\n",
    "    return bottom_20_words\n",
    "\n",
    "bottom_20_words = get_bottom_20_words(bottom_20)"
   ]
  },
  {
   "cell_type": "code",
   "execution_count": 344,
   "id": "ce664ac6",
   "metadata": {},
   "outputs": [
    {
     "name": "stderr",
     "output_type": "stream",
     "text": [
      "/Users/tansa05/jupyter/lib/python3.9/site-packages/gensim/models/keyedvectors.py:850: RuntimeWarning: invalid value encountered in true_divide\n",
      "  dists = dot(self.vectors[clip_start:clip_end], mean) / self.norms[clip_start:clip_end]\n",
      "/Users/tansa05/jupyter/lib/python3.9/site-packages/gensim/models/keyedvectors.py:450: RuntimeWarning: invalid value encountered in true_divide\n",
      "  result = self.vectors[index] / self.norms[index]\n"
     ]
    },
    {
     "name": "stdout",
     "output_type": "stream",
     "text": [
      "20000\n"
     ]
    }
   ],
   "source": [
    "# Method 2\n",
    "\n",
    "import gensim\n",
    "\n",
    "model_2 = KeyedVectors(300)\n",
    "nearest_wv = []\n",
    "\n",
    "for t in range(0, 10):\n",
    "    filter_nearest = []\n",
    "    for word in range(0, len(data['w'])):\n",
    "\n",
    "        filter_nearest.append(data['E'][word][t])\n",
    "    model_2.add_vectors(data['w'], filter_nearest)\n",
    "    \n",
    "    temp_nearest = []\n",
    "    for n in range(0, 2000):\n",
    "        temp_nearest.append(model_2.most_similar(positive = data['w'][n], topn = 4))\n",
    "    \n",
    "    nearest_wv.extend(temp_nearest)\n",
    "\n",
    "print(len(nearest_wv))"
   ]
  },
  {
   "cell_type": "code",
   "execution_count": 345,
   "id": "48f92655",
   "metadata": {
    "scrolled": true
   },
   "outputs": [],
   "source": [
    "# Method 2\n",
    "\n",
    "# w_0_t_0 = data['E'][0][0]\n",
    "\n",
    "jaccard_sim = []\n",
    "temp_jac = []\n",
    "flag = 0\n",
    "base_sim = []\n",
    "base_m2 = KeyedVectors(300)\n",
    "model_m2 = KeyedVectors(300)\n",
    "for word in range(0, len(nearest_wv)):\n",
    "    timestamp = word%10\n",
    "    word_idx = int(word/10)\n",
    "    \n",
    "#     print(timestamp, word_idx)\n",
    "    \n",
    "    if timestamp == 0:\n",
    "        flag = 0\n",
    "        base_sim = []\n",
    "        temp_jac = []\n",
    "        \n",
    "    if timestamp == 9:\n",
    "        flag = 1\n",
    "    \n",
    "    temp_sim = []\n",
    "#     print([data['w'][word_idx]])\n",
    "    for i in range(0, 4):\n",
    "        w = nearest_wv[word][i][0]\n",
    "        w_i = data['w'].index(w)\n",
    "#         print(w, w_i)\n",
    "        if len(base_sim) == 4:\n",
    "#             print(\"Temp sim!\")\n",
    "            temp_sim.append(w)\n",
    "#             temp_sim.append(data['E'][w_i][timestamp])\n",
    "#         print(nearest_wv[word][i])\n",
    "        else:\n",
    "#             print(\"No base sim!\")\n",
    "            base_sim.append(w)\n",
    "#             base_sim.append(data['E'][w_i][timestamp])\n",
    "    \n",
    "    if len(base_sim) and len(temp_sim):\n",
    "#         print(\"Jacc!\")\n",
    "#         print(len(word_key), len(base_sim), len(temp_sim))\n",
    "        \n",
    "        \n",
    "        jac_sim = gensim.matutils.jaccard(base_sim, temp_sim)\n",
    "#         print(jac_sim)\n",
    "#         break\n",
    "        temp_jac.append(jac_sim)\n",
    "        \n",
    "        if flag:\n",
    "#             print(\"Flag!\")\n",
    "            jaccard_sim.append(temp_jac)\n",
    "            \n",
    "# print(jaccard_sim)\n",
    "    \n",
    "#     if word == 9:\n",
    "#         break"
   ]
  },
  {
   "cell_type": "code",
   "execution_count": 283,
   "id": "ef08ea99",
   "metadata": {},
   "outputs": [
    {
     "name": "stdout",
     "output_type": "stream",
     "text": [
      "2000\n"
     ]
    }
   ],
   "source": [
    "print(len(jaccard_sim))"
   ]
  },
  {
   "cell_type": "code",
   "execution_count": 284,
   "id": "9a5f69f8",
   "metadata": {},
   "outputs": [
    {
     "name": "stdout",
     "output_type": "stream",
     "text": [
      "[0, 1, 2, 3, 4, 5, 6, 7, 8, 9, 10, 11, 12, 13, 14, 15, 16, 17, 18]\n",
      "['time', 'man', 'years', 'part', 'way', 'life', 'people', 'work', 'world', 'states', 'state', 'day', 'united', 'men', 'number', 'case', 'fact', 'use', 'york']\n",
      "[62, 107, 188, 195, 262, 307, 388, 395, 462, 507, 588, 595, 662, 707, 788, 795, 862, 907, 988]\n",
      "['person', 'purpose', 'future', 'character', 'journal', 'interests', 'test', 'species', 'activities', 'failure', 'republic', 'steps', 'oxford', 'kinds', 'concern', 'collection', 'planning', 'virtue', 'pieces']\n"
     ]
    }
   ],
   "source": [
    "top_20 = get_top_20(jaccard_sim)\n",
    "top_20_words = get_top_20_words(top_20)\n",
    "bottom_20 = get_bottom_20(jaccard_sim)\n",
    "bottom_20_words = get_bottom_20_words(bottom_20)"
   ]
  },
  {
   "cell_type": "code",
   "execution_count": 346,
   "id": "e29b54d3",
   "metadata": {},
   "outputs": [
    {
     "data": {
      "text/plain": [
       "20000"
      ]
     },
     "execution_count": 346,
     "metadata": {},
     "output_type": "execute_result"
    }
   ],
   "source": [
    "# Method 3\n",
    "from sklearn.metrics.pairwise import cosine_similarity\n",
    "from scipy import stats\n",
    "\n",
    "all_cosines = []\n",
    "\n",
    "for word in range(0, len(data['w'])):\n",
    "    for t in range(0, 10):\n",
    "        cosines = []\n",
    "        base = data['E'][word][t].reshape(-1,1)\n",
    "        if word >= 1898:\n",
    "            left_over = 100 - (1999 - word)\n",
    "            for rw in range(word+1, 2000):\n",
    "                new = data['E'][rw][t].reshape(-1,1)\n",
    "                cos = cosine_similarity(base, new)[0][0]\n",
    "                cosines.append(cos)\n",
    "                \n",
    "            for rw in range(0, left_over):\n",
    "                new = data['E'][rw][t].reshape(-1,1)\n",
    "                cos = cosine_similarity(base, new)[0][0]\n",
    "                cosines.append(cos)\n",
    "        else:\n",
    "            for rw in range(word+1, word+101):\n",
    "                new = data['E'][rw][t].reshape(-1,1)\n",
    "                cos = cosine_similarity(base, new)[0][0]\n",
    "                cosines.append(cos)\n",
    "        all_cosines.append(cosines)\n",
    "        \n",
    "#     break\n",
    "    \n",
    "len(all_cosines)\n",
    "        "
   ]
  },
  {
   "cell_type": "code",
   "execution_count": 347,
   "id": "134c6475",
   "metadata": {},
   "outputs": [
    {
     "name": "stderr",
     "output_type": "stream",
     "text": [
      "/Users/tansa05/jupyter/lib/python3.9/site-packages/scipy/stats/stats.py:4023: PearsonRConstantInputWarning: An input array is constant; the correlation coefficient is not defined.\n",
      "  warnings.warn(PearsonRConstantInputWarning())\n"
     ]
    }
   ],
   "source": [
    "flag = 0\n",
    "pearson = []\n",
    "temp_pearson = []\n",
    "base_sim = []\n",
    "\n",
    "for word in range(0, len(all_cosines)):\n",
    "    timestamp = word%10\n",
    "    word_idx = int(word/10)\n",
    "    \n",
    "    if timestamp == 0:\n",
    "        flag = 0\n",
    "        base_sim = all_cosines[word]\n",
    "        temp_pearson = []\n",
    "        \n",
    "    if timestamp == 9:\n",
    "        flag = 1\n",
    "        \n",
    "    if len(base_sim) and word>0 and timestamp != 0:\n",
    "        pc = stats.pearsonr(base_sim, all_cosines[word])\n",
    "        temp_pearson.append(pc[0])\n",
    "        \n",
    "    if flag:\n",
    "        pearson.append(temp_pearson)\n",
    "        \n",
    "# pearson\n"
   ]
  },
  {
   "cell_type": "code",
   "execution_count": 287,
   "id": "4d01e3cc",
   "metadata": {},
   "outputs": [
    {
     "name": "stdout",
     "output_type": "stream",
     "text": [
      "[712, 713, 714, 706, 707, 717, 715, 748, 747, 749, 756, 709, 710, 708, 716, 746, 750, 751, 752]\n",
      "['status', 'procedure', 'exception', 'representatives', 'kinds', 'police', 'speed', 'angle', 'executive', 'banks', 'ones', 'doctrine', 'welfare', 'n', 'car', 'spain', 'thomas', 'winter', 'edition']\n",
      "[711, 705, 745, 768, 663, 744, 698, 675, 767, 720, 658, 738, 699, 791, 689, 728, 652, 1051, 910]\n",
      "['mexico', 'walls', 'consent', 'plane', 'centre', 'sciences', 'arm', 'indians', 'fields', 'psychology', 'liberty', 'arts', 'distinction', 'museum', 'hospital', 'skin', 'height', 'chamber', 'reduction']\n"
     ]
    }
   ],
   "source": [
    "top_20 = get_top_20(pearson)\n",
    "top_20_words = get_top_20_words(top_20)\n",
    "bottom_20 = get_bottom_20(pearson)\n",
    "bottom_20_words = get_bottom_20_words(bottom_20)"
   ]
  },
  {
   "cell_type": "code",
   "execution_count": 327,
   "id": "e1ceb3e3",
   "metadata": {},
   "outputs": [
    {
     "name": "stdout",
     "output_type": "stream",
     "text": [
      "(3, 2000)\n",
      "[[1.         0.00208188 0.        ]\n",
      " [0.00208188 1.         0.        ]\n",
      " [0.         0.         0.        ]]\n"
     ]
    }
   ],
   "source": [
    "# Compute Intercorrelations between M1, M2 and M3\n",
    "\n",
    "three_sims = [[i[1].detach()  for i in cosine_wv], [i[1] for i in jaccard_sim], [i[1] for i in pearson]]\n",
    "three_sims = np.array(three_sims)\n",
    "print(three_sims.shape)\n",
    "\n",
    "inter_correlation = np.corrcoef(three_sims)\n",
    "print(np.nan_to_num(inter_correlation))\n"
   ]
  },
  {
   "cell_type": "code",
   "execution_count": 290,
   "id": "775e79e4",
   "metadata": {},
   "outputs": [
    {
     "name": "stdout",
     "output_type": "stream",
     "text": [
      "Collecting ruptures\n",
      "  Downloading ruptures-1.1.7-cp39-cp39-macosx_10_9_x86_64.whl (399 kB)\n",
      "\u001b[K     |████████████████████████████████| 399 kB 3.9 MB/s eta 0:00:01\n",
      "\u001b[?25hRequirement already satisfied: scipy in /Users/tansa05/jupyter/lib/python3.9/site-packages (from ruptures) (1.7.1)\n",
      "Requirement already satisfied: numpy in /Users/tansa05/jupyter/lib/python3.9/site-packages (from ruptures) (1.21.2)\n",
      "Installing collected packages: ruptures\n",
      "Successfully installed ruptures-1.1.7\n",
      "\u001b[33mWARNING: You are using pip version 21.2.4; however, version 22.2.2 is available.\n",
      "You should consider upgrading via the '/Users/tansa05/jupyter/bin/python -m pip install --upgrade pip' command.\u001b[0m\n"
     ]
    }
   ],
   "source": [
    "!pip install ruptures"
   ]
  },
  {
   "cell_type": "code",
   "execution_count": 314,
   "id": "6a1d69fa",
   "metadata": {},
   "outputs": [
    {
     "data": {
      "image/png": "[encoded data removed]",
      "text/plain": [
       "<Figure size 720x432 with 1 Axes>"
      ]
     },
     "metadata": {
      "needs_background": "light"
     },
     "output_type": "display_data"
    }
   ],
   "source": [
    "# Visualizing Change\n",
    "\n",
    "import matplotlib.pyplot as plt\n",
    "import ruptures as rpt\n",
    "\n",
    "model=\"rbf\"\n",
    "algo = rpt.Pelt(model=model).fit(np.array(pearson[712])) # 'status'\n",
    "result = algo.predict(pen=0.1)\n",
    "rpt.display(np.array(pearson[712]), result, figsize=(10, 6))\n",
    "plt.title('Change Point Detection: Pelt Search Method')\n",
    "plt.show()  "
   ]
  },
  {
   "cell_type": "code",
   "execution_count": 315,
   "id": "39ed8a89",
   "metadata": {},
   "outputs": [
    {
     "data": {
      "image/png": "[encoded data removed]",
      "text/plain": [
       "<Figure size 720x432 with 1 Axes>"
      ]
     },
     "metadata": {
      "needs_background": "light"
     },
     "output_type": "display_data"
    }
   ],
   "source": [
    "algo = rpt.Pelt(model=model).fit(np.array(pearson[713])) # 'procedure'\n",
    "result = algo.predict(pen=0.1)\n",
    "rpt.display(np.array(pearson[713]), result, figsize=(10, 6))\n",
    "plt.title('Change Point Detection: Pelt Search Method')\n",
    "plt.show()  "
   ]
  },
  {
   "cell_type": "code",
   "execution_count": 316,
   "id": "49519b8f",
   "metadata": {},
   "outputs": [
    {
     "data": {
      "image/png": "[encoded data removed]",
      "text/plain": [
       "<Figure size 720x432 with 1 Axes>"
      ]
     },
     "metadata": {
      "needs_background": "light"
     },
     "output_type": "display_data"
    }
   ],
   "source": [
    "algo = rpt.Pelt(model=model).fit(np.array(pearson[714])) # 'exception'\n",
    "result = algo.predict(pen=0.1)\n",
    "rpt.display(np.array(pearson[714]), result, figsize=(10, 6))\n",
    "plt.title('Change Point Detection: Pelt Search Method')\n",
    "plt.show()  "
   ]
  },
  {
   "cell_type": "code",
   "execution_count": 289,
   "id": "87b64434",
   "metadata": {},
   "outputs": [
    {
     "name": "stdout",
     "output_type": "stream",
     "text": [
      "Method 1 test accuracies: most change:  0 % and least change:  95 %\n",
      "Method 2 test accuracies: most change:  0 % and least change:  90 %\n",
      "Method 3 test accuracies: most change:  95 % and least change:  95 %\n"
     ]
    }
   ],
   "source": [
    "# Accuracy scores\n",
    "\n",
    "# Method 1\n",
    "lst_orig_most_change = 0\n",
    "lst_shuffle_most_change = 0\n",
    "acc_most_change = 0\n",
    "lst_orig_least_change = ['associations', 'engineering', 'societies', 'majority', 'images', 'churches', 'ice', 'organizations', 'instances', 'evolution', 'votes', 'study', 'forms', 'ends', 'positions', 'types', 'independence', 'aspects', 'failure']\n",
    "lst_shuffle_least_change = ['accordance', 'probability', 'states', 'radius', 'indiana', 'design', 'counsel', 'doctor', 'estimates', 'star', 'author', 'leg', 'research', 'emphasis', 'defense', 'market', 'subject', 'hour', 'direction'] \n",
    "lst_intersection = [value for value in lst_orig_least_change if value not in lst_shuffle_least_change]\n",
    "\n",
    "print(\"Method 1 test accuracies: most change: \", acc_most_change, \"% and least change: \", len(lst_intersection)*5, \"%\")\n",
    "\n",
    "# Method 2\n",
    "lst_orig_most_change = ['time', 'man', 'years', 'part', 'way', 'life', 'people', 'work', 'world', 'states', 'state', 'day', 'united', 'men', 'number', 'case', 'fact', 'use', 'york']\n",
    "lst_shuffle_most_change = ['time', 'man', 'years', 'part', 'way', 'life', 'people', 'work', 'world', 'states', 'state', 'day', 'united', 'men', 'number', 'case', 'fact', 'use', 'york']\n",
    "lst_intersection_most_change = [value for value in lst_orig_most_change if value not in lst_shuffle_most_change]\n",
    "lst_orig_least_change = ['associations', 'engineering', 'societies', 'majority', 'images', 'churches', 'ice', 'organizations', 'instances', 'evolution', 'votes', 'study', 'forms', 'ends', 'positions', 'types', 'independence', 'aspects', 'failure']\n",
    "lst_shuffle_least_change = ['person', 'purpose', 'future', 'character', 'journal', 'interests', 'test', 'species', 'activities', 'failure', 'republic', 'steps', 'oxford', 'kinds', 'concern', 'collection', 'planning', 'virtue', 'pieces']\n",
    "lst_intersection_least_change = [value for value in lst_orig_least_change if value not in lst_shuffle_least_change]\n",
    "\n",
    "print(\"Method 2 test accuracies: most change: \", len(lst_intersection_most_change)*5, \"% and least change: \", len(lst_intersection_least_change)*5, \"%\")\n",
    "\n",
    "# Method 3\n",
    "lst_orig_most_change = ['status', 'procedure', 'exception', 'representatives', 'kinds', 'police', 'speed', 'angle', 'executive', 'banks', 'ones', 'doctrine', 'welfare', 'n', 'car', 'spain', 'thomas', 'winter', 'edition']\n",
    "lst_shuffle_most_change = ['improvement', 'june', 'jews', 'medium', 'presence', 'india', 'food', 'motion', 'division', 'animals', 'distance', 'conference', 'paper', 'defendant', 'ii', 'friends', 'building', 'christ', 'hill']\n",
    "lst_intersection_most_change = [value for value in lst_orig_most_change if value not in lst_shuffle_most_change]\n",
    "lst_orig_least_change = ['mexico', 'walls', 'consent', 'plane', 'centre', 'sciences', 'arm', 'indians', 'fields', 'psychology', 'liberty', 'arts', 'distinction', 'museum', 'hospital', 'skin', 'height', 'chamber', 'reduction']\n",
    "lst_shuffle_least_change = ['capital', 'sentence', 'chief', 'dollars', 'executive', 'figure', 'circle', 'economy', 'division', 'base', 'nation', 'agent', 'spain', 'energy', 'principle', 'food', 'element', 'velocity', 'failure']\n",
    "lst_intersection_least_change = [value for value in lst_orig_least_change if value not in lst_shuffle_least_change]\n",
    "\n",
    "print(\"Method 3 test accuracies: most change: \", len(lst_intersection_most_change)*5, \"% and least change: \", len(lst_intersection_least_change)*5, \"%\")"
   ]
  },
  {
   "cell_type": "code",
   "execution_count": null,
   "id": "4ded0463",
   "metadata": {},
   "outputs": [],
   "source": []
  },
  {
   "cell_type": "code",
   "execution_count": null,
   "id": "6cf8bfa5",
   "metadata": {},
   "outputs": [],
   "source": []
  },
  {
   "cell_type": "code",
   "execution_count": null,
   "id": "2f074303",
   "metadata": {},
   "outputs": [],
   "source": []
  }
 ],
 "metadata": {
  "kernelspec": {
   "display_name": "Python 3",
   "language": "python",
   "name": "python3"
  },
  "language_info": {
   "codemirror_mode": {
    "name": "ipython",
    "version": 3
   },
   "file_extension": ".py",
   "mimetype": "text/x-python",
   "name": "python",
   "nbconvert_exporter": "python",
   "pygments_lexer": "ipython3",
   "version": "3.9.5"
  }
 },
 "nbformat": 4,
 "nbformat_minor": 5
}
